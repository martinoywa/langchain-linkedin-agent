{
 "cells": [
  {
   "metadata": {},
   "cell_type": "markdown",
   "source": "# Workspace",
   "id": "f2334a2f8b600765"
  },
  {
   "metadata": {},
   "cell_type": "markdown",
   "source": "## Simple Chain",
   "id": "ab04f9547843a7ca"
  },
  {
   "metadata": {
    "ExecuteTime": {
     "end_time": "2024-10-14T06:34:04.340902Z",
     "start_time": "2024-10-14T06:34:03.738724Z"
    }
   },
   "cell_type": "code",
   "source": [
    "from langchain.prompts import PromptTemplate\n",
    "from langchain_community.llms import Ollama"
   ],
   "id": "68ed90b377d52814",
   "outputs": [],
   "execution_count": 1
  },
  {
   "metadata": {
    "ExecuteTime": {
     "end_time": "2024-10-14T06:34:06.792655Z",
     "start_time": "2024-10-14T06:34:06.789033Z"
    }
   },
   "cell_type": "code",
   "source": [
    "summary_template = \"\"\"\n",
    "    Given the information {information} about a particular person. I want you to create:\n",
    "    1. A short summary of the person.\n",
    "    2. Two interesting facts about the person.\n",
    "\"\"\"\n",
    "\n",
    "summary_prompt_template = PromptTemplate(input_variables=[\"information\"], template=summary_template)"
   ],
   "id": "c9bd3bd739d2c751",
   "outputs": [],
   "execution_count": 2
  },
  {
   "metadata": {
    "ExecuteTime": {
     "end_time": "2024-10-14T06:34:09.252647Z",
     "start_time": "2024-10-14T06:34:09.248281Z"
    }
   },
   "cell_type": "code",
   "source": "llm = Ollama(model=\"llama3.1\", temperature=0)",
   "id": "75ec5fb4ccb7cfe4",
   "outputs": [],
   "execution_count": 3
  },
  {
   "metadata": {
    "ExecuteTime": {
     "end_time": "2024-10-14T06:34:09.599711Z",
     "start_time": "2024-10-14T06:34:09.596793Z"
    }
   },
   "cell_type": "code",
   "source": "chain = summary_prompt_template | llm",
   "id": "8103b2a2e3ead821",
   "outputs": [],
   "execution_count": 4
  },
  {
   "metadata": {
    "ExecuteTime": {
     "end_time": "2024-10-14T06:34:21.460005Z",
     "start_time": "2024-10-14T06:34:09.921057Z"
    }
   },
   "cell_type": "code",
   "source": [
    "information = \"\"\"\n",
    "Andrej Karpathy (born 23 October 1986[2]) is a Slovak-Canadian computer scientist who served as the director of artificial intelligence and Autopilot Vision at Tesla. He co-founded and formerly worked at OpenAI,[3][4][5] where he specialized in deep learning and computer vision.[6][7][1][8]\n",
    "\n",
    "Education and early life\n",
    "Karpathy was born in Bratislava, Czechoslovakia (now Slovakia)[9][10][11][12] and moved with his family to Toronto when he was 15.[13] He completed his Computer Science and Physics bachelor's degrees at University of Toronto in 2009[14] and his master's degree at University of British Columbia in 2011,[14] where he worked on physically-simulated figures (for example, a simulated runner or a simulated person in a crowd) with his adviser Michiel van de Panne.\n",
    "\n",
    "Karpathy received a PhD from Stanford University in 2015 under the supervision of Fei-Fei Li, focusing on the intersection of natural language processing and computer vision, and deep learning models suited for this task.[15][16]\n",
    "\n",
    "Career and research\n",
    "He authored and was the primary instructor of the first deep learning course at Stanford, CS 231n: Convolutional Neural Networks for Visual Recognition.[17] It became one of the largest classes at Stanford, growing from 150 students in 2015 to 750 in 2017.[18]\n",
    "\n",
    "Karpathy is a founding member of the artificial intelligence research group OpenAI,[19][20] where he was a research scientist from 2015 to 2017.[18] In June 2017 he became Tesla's director of artificial intelligence and reported to Elon Musk.[21][7][22] He was named one of MIT Technology Review's Innovators Under 35 for 2020.[23] After taking a several months-long sabbatical from Tesla, he announced he was leaving the company in July 2022.[24] As of February 2023, he makes YouTube videos on how to create artificial neural networks.[25]\n",
    "\n",
    "It was reported on February 9 2023 that Karpathy had announced he was returning to OpenAI.[26]\n",
    "\n",
    "A year later on February 13 2024, an OpenAI spokesperson confirmed that Karpathy had left OpenAI. [27]\n",
    "\"\"\"\n",
    "\n",
    "response = chain.invoke(input={\"information\": information})\n",
    "print(response)"
   ],
   "id": "d686b35a0fbe514e",
   "outputs": [
    {
     "name": "stdout",
     "output_type": "stream",
     "text": [
      "Here are the requested items:\n",
      "\n",
      "**1. Short Summary:**\n",
      "Andrej Karpathy is a Slovak-Canadian computer scientist who has made significant contributions to artificial intelligence, deep learning, and computer vision. He has held leadership positions at Tesla and OpenAI, and has taught one of the largest classes on deep learning at Stanford University.\n",
      "\n",
      "**2. Two Interesting Facts:**\n",
      "\n",
      "* **Fact 1:** Andrej Karpathy was a founding member of the artificial intelligence research group OpenAI and served as a research scientist from 2015 to 2017.\n",
      "* **Fact 2:** He is also a YouTube creator, making videos on how to create artificial neural networks, and has been recognized as one of MIT Technology Review's Innovators Under 35 for 2020.\n"
     ]
    }
   ],
   "execution_count": 5
  },
  {
   "metadata": {},
   "cell_type": "markdown",
   "source": "## Agent Application",
   "id": "f29602fb65a581bc"
  },
  {
   "metadata": {
    "ExecuteTime": {
     "end_time": "2024-10-14T06:41:45.817601Z",
     "start_time": "2024-10-14T06:41:24.764431Z"
    }
   },
   "cell_type": "code",
   "source": [
    "from agents import linkedin_lookup\n",
    "from scrapers import linkedin\n",
    "\n",
    "\n",
    "linkedin_url = linkedin_lookup.lookup(\"Martin Oywa\", \"Machine Learning Engineer Safaricom\")\n",
    "linkedin_url"
   ],
   "id": "6e5d9ee9bdabf3f",
   "outputs": [
    {
     "name": "stderr",
     "output_type": "stream",
     "text": [
      "Error in StdOutCallbackHandler.on_chain_start callback: AttributeError(\"'NoneType' object has no attribute 'get'\")\n"
     ]
    },
    {
     "name": "stdout",
     "output_type": "stream",
     "text": [
      "\u001B[32;1m\u001B[1;3mThought: I need to find Martin Oywa's LinkedIn profile page.\n",
      "Action: Crawl Google 4 linkedin profile page\n",
      "Action Input: name=\"Martin Oywa\u001B[0m\u001B[36;1m\u001B[1;3m[{'url': 'https://hashnode.com/@martinoywa', 'content': 'Machine Learning Engineer. My Feed Discussions ... Collaborate seamlessly with Hashnode Headless CMS for Enterprise. Upgrade Learn more. Martin Oywa. Machine Learning Engineer. Follow. Member Since Apr, 2024. Writes at. Human x AI. martinoywa.hashnode.dev. Read the blog. About Me. Machine Learning Engineer @ Safaricom PLC | MS, AI/ML/DL, MLOps ...'}, {'url': 'https://www.linkedin.com/posts/martinoywa_machinelearning-ai-data-activity-6926855395114123265-7nIt', 'content': \"Martin O.'s Post Martin O. Machine Learning Engineer @ Safaricom PLC | MS, AI/ML/DL, MLOps 2y Report this post I'm happy to share that I've joined ...\"}, {'url': 'https://martinoywa.github.io/', 'content': \"Github. Martin Oywa. Hi, I'm Martin, a Deep Learning / Machine Learning Engineer from Kenya. I'm passionate about DL/ML research especially in the fields of Computer Vision and Natural Language Processing (NLP). I don't have a preference for their applications (healthcare etc) as long as I get to help solve real world problems.\"}, {'url': 'https://martinoywa.github.io/publications/', 'content': 'Publications - Martin Oywa Martin Oywa Martin Oywa I love working with Deep Neural Networks. Artificial Intelligence in Healthcare Published in Laikipia University, 2021 Quality care that is accessible within the shortest time frame is a tenet of the healthcare sector. Recommended citation: Martin Oywa, Sarah Mukuti, John Ndichu, Kennedy Mutiso. \"Artificial Intelligence in Healthcare; Laikipia University https://martinoywa.github.io/files/AI_in_Healthcare.pdf Deep Learning for Generatation Car Designs Using Generative Adversarial Networks Published in Laikipia University, 2020 A model that is well trained to produce almost perfect designs that are somewhat indistinguishable, in terms of quality from what already exists would therefore be a welcome relief. Recommended citation: Martin Oywa, Sarah Mukuti, John Ndichu, Kennedy Mutiso, Shadrack Muteti . \"Deep Learning for Generatation Car Designs Using Generative Adversarial Networks\" Laikipia University https://martinoywa.github.io/files/Creative_GAN_Documentation.pdf © 2022 Martin Oywa.'}, {'url': 'https://theorg.com/org/safaricom-plc/teams/data-science-and-engineering-team', 'content': 'The Data Science and Engineering Team at Safaricom leverages advanced data analytics, machine learning, and engineering principles to derive actionable insights and drive strategic decisions. This team is responsible for optimizing business processes, enhancing customer experiences, and innovating product offerings like M-PESA through data ...'}]\u001B[0m\u001B[32;1m\u001B[1;3mThought: I need to find the LinkedIn profile page URL of Martin Oywa.\n",
      "Action: Crawl Google 4 linkedin profile page\n",
      "Action Input: name=\"Martin Oywa\u001B[0m\u001B[36;1m\u001B[1;3m[{'url': 'https://hashnode.com/@martinoywa', 'content': 'Machine Learning Engineer. My Feed Discussions ... Collaborate seamlessly with Hashnode Headless CMS for Enterprise. Upgrade Learn more. Martin Oywa. Machine Learning Engineer. Follow. Member Since Apr, 2024. Writes at. Human x AI. martinoywa.hashnode.dev. Read the blog. About Me. Machine Learning Engineer @ Safaricom PLC | MS, AI/ML/DL, MLOps ...'}, {'url': 'https://www.linkedin.com/posts/martinoywa_machinelearning-ai-data-activity-6926855395114123265-7nIt', 'content': \"Martin O.'s Post Martin O. Machine Learning Engineer @ Safaricom PLC | MS, AI/ML/DL, MLOps 2y Report this post I'm happy to share that I've joined ...\"}, {'url': 'https://martinoywa.github.io/', 'content': \"Github. Martin Oywa. Hi, I'm Martin, a Deep Learning / Machine Learning Engineer from Kenya. I'm passionate about DL/ML research especially in the fields of Computer Vision and Natural Language Processing (NLP). I don't have a preference for their applications (healthcare etc) as long as I get to help solve real world problems.\"}, {'url': 'https://martinoywa.github.io/resume/', 'content': 'Martin Oywa. I love working with Deep Neural Networks. Follow. Kenya; Twitter; LinkedIn; Github; Resume'}, {'url': 'https://theorg.com/org/safaricom-plc/teams/data-science-and-engineering-team', 'content': 'The Data Science and Engineering Team at Safaricom leverages advanced data analytics, machine learning, and engineering principles to derive actionable insights and drive strategic decisions. This team is responsible for optimizing business processes, enhancing customer experiences, and innovating product offerings like M-PESA through data ...'}]\u001B[0m\u001B[32;1m\u001B[1;3mThought: I now know the final answer\n",
      "Final Answer: https://www.linkedin.com/in/martinoywa/\u001B[0m\n",
      "\n",
      "\u001B[1m> Finished chain.\u001B[0m\n"
     ]
    },
    {
     "data": {
      "text/plain": [
       "'https://www.linkedin.com/in/martinoywa/'"
      ]
     },
     "execution_count": 11,
     "metadata": {},
     "output_type": "execute_result"
    }
   ],
   "execution_count": 11
  },
  {
   "metadata": {
    "ExecuteTime": {
     "end_time": "2024-10-14T06:42:15.639825Z",
     "start_time": "2024-10-14T06:41:58.187061Z"
    }
   },
   "cell_type": "code",
   "source": [
    "linkedin_data = linkedin.scrape_linkedin_profile(linkedin_profile_url=linkedin_url, mock=False)\n",
    "response = chain.invoke(input={\"information\": linkedin_data})\n",
    "print(response)"
   ],
   "id": "31dfb0992aa904b0",
   "outputs": [
    {
     "name": "stdout",
     "output_type": "stream",
     "text": [
      "Based on the provided data, here are the requested outputs:\n",
      "\n",
      "**Summary:**\n",
      "The person is a tech enthusiast with experience in various roles and organizations related to science, technology, engineering, and mathematics (STEM). They have worked as an Ambassador for AWS Educate, Machine Learning Technical Facilitator for Developer Student Clubs, Mentor for Teens In AI, Chairperson of Laikipia University Computer Students Association, and Registration Desk volunteer for GDG Nairobi. Their skills include programming languages, data science, machine learning, and software development.\n",
      "\n",
      "**Interesting Facts:**\n",
      "\n",
      "1. **Leadership Experience:** The person has held leadership positions in various organizations, including Chairperson of Laikipia University Computer Students Association, where they improved their leadership and event coordination skills.\n",
      "2. **Mentorship:** They have mentored high school students interested in AI and participated in a three-day hackathon using AI to accelerate UN SDGs, demonstrating their commitment to giving back to the community.\n",
      "\n",
      "Please note that these outputs are based on the provided data and might not be exhaustive or entirely accurate without more information.\n"
     ]
    }
   ],
   "execution_count": 12
  },
  {
   "metadata": {
    "ExecuteTime": {
     "end_time": "2024-10-14T07:00:26.411023Z",
     "start_time": "2024-10-14T07:00:26.399199Z"
    }
   },
   "cell_type": "code",
   "source": [
    "from parsers.output_parser import summary_parser\n",
    "\n",
    "# output parsing\n",
    "summary_template = \"\"\"\n",
    "    Given the information {information} about a particular person. I want you to create:\n",
    "    1. A short summary of the person.\n",
    "    2. Two interesting facts about the person.\n",
    "    \\n{format_instructions}\n",
    "\"\"\"\n",
    "\n",
    "summary_prompt_template = PromptTemplate(\n",
    "    input_variables=[\"information\"],\n",
    "    template=summary_template,\n",
    "    partial_variables={\"format_instructions\": summary_parser.get_format_instructions()}\n",
    ")\n",
    "llm = Ollama(model=\"llama3.1\", temperature=0)\n",
    "chain = summary_prompt_template | llm | summary_parser"
   ],
   "id": "78b798f1a122b69",
   "outputs": [],
   "execution_count": 13
  },
  {
   "metadata": {
    "ExecuteTime": {
     "end_time": "2024-10-14T07:00:57.660288Z",
     "start_time": "2024-10-14T07:00:57.656467Z"
    }
   },
   "cell_type": "code",
   "source": "linkedin_url",
   "id": "ad2f495122fafb6d",
   "outputs": [
    {
     "data": {
      "text/plain": [
       "'https://www.linkedin.com/in/martinoywa/'"
      ]
     },
     "execution_count": 14,
     "metadata": {},
     "output_type": "execute_result"
    }
   ],
   "execution_count": 14
  },
  {
   "metadata": {
    "ExecuteTime": {
     "end_time": "2024-10-14T07:01:38.158181Z",
     "start_time": "2024-10-14T07:01:18.272581Z"
    }
   },
   "cell_type": "code",
   "source": [
    "linkedin_data = linkedin.scrape_linkedin_profile(linkedin_profile_url=linkedin_url, mock=False)\n",
    "response = chain.invoke(input={\"information\": linkedin_data})\n",
    "print(response)"
   ],
   "id": "43bde10fab1c2e6d",
   "outputs": [
    {
     "name": "stdout",
     "output_type": "stream",
     "text": [
      "summary='Machine Learning Technical Facilitator with experience in mentoring high school students and leading a computer students association. Skilled in various programming languages, data engineering, and machine learning.' facts=['Improved interest rates in the broader Artificial Intelligence field from having only 2 students attending per week to at least 10 every meetup throughout a span of 2 months.', \"Currently have over 30 student's either enrolled in Machine Learning Courses and/or building solutions to solve real-world challenges by utilizing Machine Learning.\"]\n"
     ]
    }
   ],
   "execution_count": 15
  },
  {
   "metadata": {},
   "cell_type": "markdown",
   "source": "## Function Tests",
   "id": "2f8262117daf4808"
  },
  {
   "metadata": {
    "ExecuteTime": {
     "end_time": "2024-10-08T07:21:59.571469Z",
     "start_time": "2024-10-08T07:21:40.438722Z"
    }
   },
   "cell_type": "code",
   "source": [
    "# Non-agentic approach i.e. testing LinkedIn scraper function.\n",
    "from scrapers import linkedin\n",
    "\n",
    "\n",
    "linkedin_data = linkedin.scrape_linkedin_profile(linkedin_profile_url=\"https://www.linkedin.com/in/martinoywa/\", mock=True)\n",
    "response = chain.invoke(input={\"information\": linkedin_data})\n",
    "print(response)"
   ],
   "id": "2786e15a87028447",
   "outputs": [
    {
     "name": "stdout",
     "output_type": "stream",
     "text": [
      "Based on the provided data, here are the requested outputs:\n",
      "\n",
      "**Summary:**\n",
      "The person is a skilled professional with expertise in cloud computing (AWS), machine learning, and software development. They have experience working with various organizations, including Developer Students, Teens In AI, and Laikipia University Computer Students Association. They have also held leadership positions, such as Chairperson of LUCOSA, and have been involved in organizing events like talks and hackathons.\n",
      "\n",
      "**Interesting Facts:**\n",
      "\n",
      "1. **Machine Learning Enthusiast:** The person has a strong background in machine learning, having worked as a Machine Learning Technical Facilitator for Developer Student Clubs chapter at Laikipia University. They were able to increase interest rates in the broader Artificial Intelligence field from 2 students per week to at least 10 every meetup.\n",
      "2. **Leadership Skills:** The person has demonstrated leadership skills by holding positions such as Chairperson of LUCOSA, where they improved their event coordination and leadership skills. They have also been involved in organizing events like talks and hackathons, showcasing their ability to bring people together and facilitate learning experiences.\n",
      "\n",
      "Let me know if you'd like me to add anything else!\n"
     ]
    }
   ],
   "execution_count": 16
  },
  {
   "metadata": {},
   "cell_type": "markdown",
   "source": "",
   "id": "ba1538e8f5cd192f"
  }
 ],
 "metadata": {
  "kernelspec": {
   "display_name": "Python 3",
   "language": "python",
   "name": "python3"
  },
  "language_info": {
   "codemirror_mode": {
    "name": "ipython",
    "version": 2
   },
   "file_extension": ".py",
   "mimetype": "text/x-python",
   "name": "python",
   "nbconvert_exporter": "python",
   "pygments_lexer": "ipython2",
   "version": "2.7.6"
  }
 },
 "nbformat": 4,
 "nbformat_minor": 5
}
