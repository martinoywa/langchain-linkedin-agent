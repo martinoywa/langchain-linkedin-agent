{
 "cells": [
  {
   "metadata": {},
   "cell_type": "markdown",
   "source": "# Workspace",
   "id": "f2334a2f8b600765"
  },
  {
   "metadata": {},
   "cell_type": "markdown",
   "source": "## Simple Chain",
   "id": "ab04f9547843a7ca"
  },
  {
   "metadata": {
    "ExecuteTime": {
     "end_time": "2024-10-02T19:28:11.507621Z",
     "start_time": "2024-10-02T19:28:10.614846Z"
    }
   },
   "cell_type": "code",
   "source": [
    "from langchain.prompts import PromptTemplate\n",
    "from langchain_community.llms import Ollama"
   ],
   "id": "68ed90b377d52814",
   "outputs": [],
   "execution_count": 1
  },
  {
   "metadata": {
    "ExecuteTime": {
     "end_time": "2024-10-02T19:33:11.450802Z",
     "start_time": "2024-10-02T19:33:11.428183Z"
    }
   },
   "cell_type": "code",
   "source": [
    "summary_template = \"\"\"\n",
    "    Given the information {information} about a particular person. I want you to create:\n",
    "    1. A short summary of the person.\n",
    "    2. Two interesting facts about the person.\n",
    "\"\"\"\n",
    "\n",
    "summary_prompt_template = PromptTemplate(input_variables=[\"information\"], template=summary_template)"
   ],
   "id": "c9bd3bd739d2c751",
   "outputs": [],
   "execution_count": 2
  },
  {
   "metadata": {
    "ExecuteTime": {
     "end_time": "2024-10-02T19:33:55.476453Z",
     "start_time": "2024-10-02T19:33:55.470452Z"
    }
   },
   "cell_type": "code",
   "source": "llm = Ollama(model=\"llama3.1\", temperature=0)",
   "id": "75ec5fb4ccb7cfe4",
   "outputs": [],
   "execution_count": 3
  },
  {
   "metadata": {
    "ExecuteTime": {
     "end_time": "2024-10-02T19:34:19.292212Z",
     "start_time": "2024-10-02T19:34:19.289512Z"
    }
   },
   "cell_type": "code",
   "source": "chain = summary_prompt_template | llm",
   "id": "8103b2a2e3ead821",
   "outputs": [],
   "execution_count": 4
  },
  {
   "metadata": {
    "ExecuteTime": {
     "end_time": "2024-10-02T19:38:38.353804Z",
     "start_time": "2024-10-02T19:38:16.515650Z"
    }
   },
   "cell_type": "code",
   "source": [
    "information = \"\"\"\n",
    "Andrej Karpathy (born 23 October 1986[2]) is a Slovak-Canadian computer scientist who served as the director of artificial intelligence and Autopilot Vision at Tesla. He co-founded and formerly worked at OpenAI,[3][4][5] where he specialized in deep learning and computer vision.[6][7][1][8]\n",
    "\n",
    "Education and early life\n",
    "Karpathy was born in Bratislava, Czechoslovakia (now Slovakia)[9][10][11][12] and moved with his family to Toronto when he was 15.[13] He completed his Computer Science and Physics bachelor's degrees at University of Toronto in 2009[14] and his master's degree at University of British Columbia in 2011,[14] where he worked on physically-simulated figures (for example, a simulated runner or a simulated person in a crowd) with his adviser Michiel van de Panne.\n",
    "\n",
    "Karpathy received a PhD from Stanford University in 2015 under the supervision of Fei-Fei Li, focusing on the intersection of natural language processing and computer vision, and deep learning models suited for this task.[15][16]\n",
    "\n",
    "Career and research\n",
    "He authored and was the primary instructor of the first deep learning course at Stanford, CS 231n: Convolutional Neural Networks for Visual Recognition.[17] It became one of the largest classes at Stanford, growing from 150 students in 2015 to 750 in 2017.[18]\n",
    "\n",
    "Karpathy is a founding member of the artificial intelligence research group OpenAI,[19][20] where he was a research scientist from 2015 to 2017.[18] In June 2017 he became Tesla's director of artificial intelligence and reported to Elon Musk.[21][7][22] He was named one of MIT Technology Review's Innovators Under 35 for 2020.[23] After taking a several months-long sabbatical from Tesla, he announced he was leaving the company in July 2022.[24] As of February 2023, he makes YouTube videos on how to create artificial neural networks.[25]\n",
    "\n",
    "It was reported on February 9 2023 that Karpathy had announced he was returning to OpenAI.[26]\n",
    "\n",
    "A year later on February 13 2024, an OpenAI spokesperson confirmed that Karpathy had left OpenAI. [27]\n",
    "\"\"\"\n",
    "\n",
    "response = chain.invoke(input={\"information\": information})\n",
    "print(response)"
   ],
   "id": "d686b35a0fbe514e",
   "outputs": [
    {
     "name": "stdout",
     "output_type": "stream",
     "text": [
      "Here are the requested items:\n",
      "\n",
      "**1. Short Summary:**\n",
      "Andrej Karpathy is a Slovak-Canadian computer scientist who has made significant contributions to artificial intelligence, deep learning, and computer vision. He has held leadership positions at Tesla and OpenAI, and has taught one of the largest classes on deep learning at Stanford University.\n",
      "\n",
      "**2. Two Interesting Facts:**\n",
      "\n",
      "* **Fact 1:** Andrej Karpathy was a founding member of the artificial intelligence research group OpenAI and served as a research scientist from 2015 to 2017.\n",
      "* **Fact 2:** He is also a YouTube creator, making videos on how to create artificial neural networks, and has been named one of MIT Technology Review's Innovators Under 35 for 2020.\n"
     ]
    }
   ],
   "execution_count": 5
  },
  {
   "metadata": {},
   "cell_type": "code",
   "outputs": [],
   "execution_count": null,
   "source": "",
   "id": "b3a47cad4c1eb4af"
  }
 ],
 "metadata": {
  "kernelspec": {
   "display_name": "Python 3",
   "language": "python",
   "name": "python3"
  },
  "language_info": {
   "codemirror_mode": {
    "name": "ipython",
    "version": 2
   },
   "file_extension": ".py",
   "mimetype": "text/x-python",
   "name": "python",
   "nbconvert_exporter": "python",
   "pygments_lexer": "ipython2",
   "version": "2.7.6"
  }
 },
 "nbformat": 4,
 "nbformat_minor": 5
}
