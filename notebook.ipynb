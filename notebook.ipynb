{
 "cells": [
  {
   "metadata": {},
   "cell_type": "markdown",
   "source": "# Workspace",
   "id": "f2334a2f8b600765"
  },
  {
   "metadata": {},
   "cell_type": "markdown",
   "source": "## Simple Chain",
   "id": "ab04f9547843a7ca"
  },
  {
   "metadata": {
    "ExecuteTime": {
     "end_time": "2024-10-02T19:49:18.248143Z",
     "start_time": "2024-10-02T19:49:17.617126Z"
    }
   },
   "cell_type": "code",
   "source": [
    "from langchain.prompts import PromptTemplate\n",
    "from langchain_community.llms import Ollama"
   ],
   "id": "68ed90b377d52814",
   "outputs": [],
   "execution_count": 1
  },
  {
   "metadata": {
    "ExecuteTime": {
     "end_time": "2024-10-02T19:49:19.514876Z",
     "start_time": "2024-10-02T19:49:19.510674Z"
    }
   },
   "cell_type": "code",
   "source": [
    "summary_template = \"\"\"\n",
    "    Given the information {information} about a particular person. I want you to create:\n",
    "    1. A short summary of the person.\n",
    "    2. Two interesting facts about the person.\n",
    "\"\"\"\n",
    "\n",
    "summary_prompt_template = PromptTemplate(input_variables=[\"information\"], template=summary_template)"
   ],
   "id": "c9bd3bd739d2c751",
   "outputs": [],
   "execution_count": 2
  },
  {
   "metadata": {
    "ExecuteTime": {
     "end_time": "2024-10-02T19:49:20.276877Z",
     "start_time": "2024-10-02T19:49:20.273677Z"
    }
   },
   "cell_type": "code",
   "source": "llm = Ollama(model=\"llama3.1\", temperature=0)",
   "id": "75ec5fb4ccb7cfe4",
   "outputs": [],
   "execution_count": 3
  },
  {
   "metadata": {
    "ExecuteTime": {
     "end_time": "2024-10-02T19:49:20.866570Z",
     "start_time": "2024-10-02T19:49:20.863320Z"
    }
   },
   "cell_type": "code",
   "source": "chain = summary_prompt_template | llm",
   "id": "8103b2a2e3ead821",
   "outputs": [],
   "execution_count": 4
  },
  {
   "metadata": {
    "ExecuteTime": {
     "end_time": "2024-10-02T19:49:33.899125Z",
     "start_time": "2024-10-02T19:49:21.541400Z"
    }
   },
   "cell_type": "code",
   "source": [
    "information = \"\"\"\n",
    "Andrej Karpathy (born 23 October 1986[2]) is a Slovak-Canadian computer scientist who served as the director of artificial intelligence and Autopilot Vision at Tesla. He co-founded and formerly worked at OpenAI,[3][4][5] where he specialized in deep learning and computer vision.[6][7][1][8]\n",
    "\n",
    "Education and early life\n",
    "Karpathy was born in Bratislava, Czechoslovakia (now Slovakia)[9][10][11][12] and moved with his family to Toronto when he was 15.[13] He completed his Computer Science and Physics bachelor's degrees at University of Toronto in 2009[14] and his master's degree at University of British Columbia in 2011,[14] where he worked on physically-simulated figures (for example, a simulated runner or a simulated person in a crowd) with his adviser Michiel van de Panne.\n",
    "\n",
    "Karpathy received a PhD from Stanford University in 2015 under the supervision of Fei-Fei Li, focusing on the intersection of natural language processing and computer vision, and deep learning models suited for this task.[15][16]\n",
    "\n",
    "Career and research\n",
    "He authored and was the primary instructor of the first deep learning course at Stanford, CS 231n: Convolutional Neural Networks for Visual Recognition.[17] It became one of the largest classes at Stanford, growing from 150 students in 2015 to 750 in 2017.[18]\n",
    "\n",
    "Karpathy is a founding member of the artificial intelligence research group OpenAI,[19][20] where he was a research scientist from 2015 to 2017.[18] In June 2017 he became Tesla's director of artificial intelligence and reported to Elon Musk.[21][7][22] He was named one of MIT Technology Review's Innovators Under 35 for 2020.[23] After taking a several months-long sabbatical from Tesla, he announced he was leaving the company in July 2022.[24] As of February 2023, he makes YouTube videos on how to create artificial neural networks.[25]\n",
    "\n",
    "It was reported on February 9 2023 that Karpathy had announced he was returning to OpenAI.[26]\n",
    "\n",
    "A year later on February 13 2024, an OpenAI spokesperson confirmed that Karpathy had left OpenAI. [27]\n",
    "\"\"\"\n",
    "\n",
    "response = chain.invoke(input={\"information\": information})\n",
    "print(response)"
   ],
   "id": "d686b35a0fbe514e",
   "outputs": [
    {
     "name": "stdout",
     "output_type": "stream",
     "text": [
      "Here are the requested items:\n",
      "\n",
      "**1. Short Summary:**\n",
      "Andrej Karpathy is a Slovak-Canadian computer scientist who has made significant contributions to artificial intelligence, deep learning, and computer vision. He has held leadership positions at Tesla and OpenAI, and has taught one of the largest classes on deep learning at Stanford University.\n",
      "\n",
      "**2. Two Interesting Facts:**\n",
      "\n",
      "* **Fact 1:** Andrej Karpathy was a founding member of the artificial intelligence research group OpenAI and served as a research scientist from 2015 to 2017.\n",
      "* **Fact 2:** He is also a YouTube creator, making videos on how to create artificial neural networks, and has been recognized as one of MIT Technology Review's Innovators Under 35 for 2020.\n"
     ]
    }
   ],
   "execution_count": 5
  },
  {
   "metadata": {},
   "cell_type": "markdown",
   "source": "## Agent Application",
   "id": "2f8262117daf4808"
  },
  {
   "metadata": {
    "ExecuteTime": {
     "end_time": "2024-10-02T21:04:54.052830Z",
     "start_time": "2024-10-02T21:04:40.281416Z"
    }
   },
   "cell_type": "code",
   "source": [
    "# Non-agentic approach i.e. testing LinkedIn scraper function.\n",
    "from scrapers import linkedin\n",
    "\n",
    "\n",
    "summary_template = \"\"\"\n",
    "    Given the LinkedIn information {information} about a particular person. I want you to create:\n",
    "    1. A short summary of the person.\n",
    "    2. Two interesting facts about the person.\n",
    "\"\"\"\n",
    "\n",
    "summary_prompt_template = PromptTemplate(input_variables=[\"information\"], template=summary_template)\n",
    "linkedin_data = linkedin.scrape_linkedin_profile(linkedin_profile_url=\"https://www.linkedin.com/in/martinoywa/\", mock=True)\n",
    "\n",
    "chain = summary_prompt_template | llm\n",
    "response = chain.invoke(input={\"information\": linkedin_data})\n",
    "print(response)"
   ],
   "id": "2786e15a87028447",
   "outputs": [
    {
     "name": "stdout",
     "output_type": "stream",
     "text": [
      "Based on the provided data, here are the requested outputs:\n",
      "\n",
      "**Summary:**\n",
      "The person is a skilled professional with expertise in cloud computing (AWS), machine learning, and software development. They have experience working with various organizations, including Developer Students, Teens In AI, and Laikipia University Computer Students Association. They have also held leadership positions, such as Chairperson of LUCOSA, and have been involved in organizing events like talks and hackathons.\n",
      "\n",
      "**Interesting Facts:**\n",
      "\n",
      "1. **Machine Learning Enthusiast:** The person has a strong background in machine learning, having worked as a Machine Learning Technical Facilitator for Developer Student Clubs chapter at Laikipia University. They were able to increase interest rates in the broader Artificial Intelligence field from 2 students per week to at least 10 every meetup.\n",
      "2. **Leadership Skills:** The person has demonstrated leadership skills by holding positions such as Chairperson of LUCOSA, where they improved their event coordination and leadership skills. They have also been involved in organizing events like talks and hackathons, showcasing their ability to bring people together and facilitate learning experiences.\n",
      "\n",
      "Let me know if you'd like me to add anything else!\n"
     ]
    }
   ],
   "execution_count": 10
  },
  {
   "metadata": {},
   "cell_type": "code",
   "outputs": [],
   "execution_count": null,
   "source": "",
   "id": "68136392436361f4"
  }
 ],
 "metadata": {
  "kernelspec": {
   "display_name": "Python 3",
   "language": "python",
   "name": "python3"
  },
  "language_info": {
   "codemirror_mode": {
    "name": "ipython",
    "version": 2
   },
   "file_extension": ".py",
   "mimetype": "text/x-python",
   "name": "python",
   "nbconvert_exporter": "python",
   "pygments_lexer": "ipython2",
   "version": "2.7.6"
  }
 },
 "nbformat": 4,
 "nbformat_minor": 5
}
